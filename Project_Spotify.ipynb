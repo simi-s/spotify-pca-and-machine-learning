{
 "cells": [
  {
   "cell_type": "code",
   "execution_count": null,
   "metadata": {},
   "outputs": [],
   "source": [
    "import numpy as np\n",
    "import pandas as pd\n",
    "import matplotlib.pyplot as plt\n",
    "plt.rcParams[\"figure.figsize\"] = (12,6)\n",
    "import seaborn as sns\n",
    "%matplotlib inline\n",
    "\n",
    "\n",
    "from sklearn.preprocessing import StandardScaler\n",
    "from sklearn.decomposition import PCA\n",
    "from sklearn.model_selection import train_test_split\n",
    "#from sklearn.tree import DecisionTreeClassifier\n",
    "from sklearn import svm\n",
    "from sklearn.linear_model import LinearRegression\n",
    "from sklearn.metrics import classification_report, confusion_matrix, accuracy_score\n",
    "from matplotlib.colors import ListedColormap"
   ]
  },
  {
   "cell_type": "code",
   "execution_count": null,
   "metadata": {},
   "outputs": [],
   "source": [
    "\n",
    "df_spotify=pd.read_csv(\"spotify_songs_data.csv\")\n",
    "df_spotify.head()"
   ]
  },
  {
   "cell_type": "code",
   "execution_count": null,
   "metadata": {},
   "outputs": [],
   "source": [
    "col = df_spotify.columns.tolist()\n",
    "print(\"Columns Names:\")\n",
    "print(col)"
   ]
  },
  {
   "cell_type": "code",
   "execution_count": null,
   "metadata": {},
   "outputs": [],
   "source": [
    "df_spotify.describe()"
   ]
  },
  {
   "cell_type": "code",
   "execution_count": null,
   "metadata": {},
   "outputs": [],
   "source": [
    "df_spotify.shape"
   ]
  },
  {
   "cell_type": "code",
   "execution_count": null,
   "metadata": {},
   "outputs": [],
   "source": [
    "#df_spotify.info()"
   ]
  },
  {
   "cell_type": "code",
   "execution_count": null,
   "metadata": {},
   "outputs": [],
   "source": [
    "# Filter the dataset for only song features on spotify\n",
    "\n",
    "df_filtered_Spotify = pd.DataFrame(df_spotify)\n",
    "df_filtered_Spotify.info()"
   ]
  },
  {
   "cell_type": "code",
   "execution_count": null,
   "metadata": {},
   "outputs": [],
   "source": [
    "df_filtered_Spotify = df_filtered_Spotify.drop(columns=['artists', 'id', 'name','release_date','year'])\n",
    "df_filtered_Spotify.info()"
   ]
  },
  {
   "cell_type": "code",
   "execution_count": null,
   "metadata": {},
   "outputs": [],
   "source": [
    "import plotly.graph_objects as go\n",
    "\n",
    "fig = go.Figure()\n",
    "fig.add_trace(go.Box(\n",
    "    y=df_filtered_Spotify['acousticness'],\n",
    "    name=\"acousticness\",\n",
    "    jitter=0.3,\n",
    "    pointpos=-1.8,\n",
    "    boxpoints='all', # represent all points\n",
    "    marker_color='rgb(7,40,89)',\n",
    "    line_color='rgb(7,40,89)'\n",
    "))\n",
    "\n",
    "fig.add_trace(go.Box(\n",
    "    y=df_filtered_Spotify['danceability'],\n",
    "    name=\"danceability\",\n",
    "    boxpoints=False, # no data points\n",
    "    marker_color='rgb(9,56,125)',\n",
    "    line_color='rgb(9,56,125)'\n",
    "))\n",
    "\n",
    "fig.add_trace(go.Box(\n",
    "    y=df_filtered_Spotify['energy'],\n",
    "    name=\"energy\",\n",
    "    boxpoints=False, # no data points\n",
    "    marker_color='rgb(9,56,125)',\n",
    "    line_color='rgb(9,56,125)'\n",
    "))\n",
    "\n",
    "\n",
    "fig.add_trace(go.Box(\n",
    "    y=df_filtered_Spotify['instrumentalness'],\n",
    "    name=\"instrumentalness\",\n",
    "    boxpoints=False, # only outliers\n",
    "    marker_color='rgb(107,174,214)',\n",
    "    line_color='rgb(107,174,214)'\n",
    "))\n",
    "\n",
    "fig.add_trace(go.Box(\n",
    "    y=df_filtered_Spotify['loudness'],\n",
    "    name=\"loudness\",\n",
    "    boxpoints=False, # only outliers\n",
    "    marker_color='rgb(107,174,214)',\n",
    "    line_color='rgb(107,174,214)'\n",
    "))\n",
    "\n",
    "fig.add_trace(go.Box(\n",
    "    y=df_filtered_Spotify['liveness'],\n",
    "    name=\"liveness\",\n",
    "    boxpoints=False, # only outliers\n",
    "    marker_color='rgb(107,174,214)',\n",
    "    line_color='rgb(107,174,214)'\n",
    "))\n",
    "\n",
    "fig.add_trace(go.Box(\n",
    "    y=df_filtered_Spotify['popularity'],\n",
    "    name=\"popularity\",\n",
    "    boxpoints=False, # only outliers\n",
    "    marker_color='rgb(107,174,214)',\n",
    "    line_color='rgb(107,174,214)'\n",
    "))\n",
    "\n",
    "fig.add_trace(go.Box(\n",
    "    y=df_filtered_Spotify['tempo'],\n",
    "    name=\"tempo\",\n",
    "    boxpoints=False, # only outliers\n",
    "    marker_color='rgb(107,174,214)',\n",
    "    line_color='rgb(107,174,214)'\n",
    "))\n",
    "\n",
    "fig.add_trace(go.Box(\n",
    "    y=df_filtered_Spotify['popularity'],\n",
    "    name=\"popularity\",\n",
    "    boxpoints=False, # only outliers\n",
    "    marker_color='rgb(107,174,214)',\n",
    "    line_color='rgb(107,174,214)'\n",
    "))\n",
    "\n",
    "\n",
    "fig.update_layout(title_text=\"Box Plot Styling Outliers\")\n",
    "fig.show()\n"
   ]
  },
  {
   "cell_type": "code",
   "execution_count": null,
   "metadata": {},
   "outputs": [],
   "source": [
    "df_spotify_corr = df_filtered_Spotify.corr()\n",
    "print(df_spotify_corr)"
   ]
  },
  {
   "cell_type": "code",
   "execution_count": null,
   "metadata": {},
   "outputs": [],
   "source": [
    "fig, ax = plt.subplots(figsize=(15,10)) \n",
    "ax = sns.heatmap(df_spotify_corr, annot = True, cmap= 'viridis')"
   ]
  },
  {
   "cell_type": "code",
   "execution_count": null,
   "metadata": {},
   "outputs": [],
   "source": [
    "x_values = df_filtered_Spotify.iloc[:, :].values\n",
    "y_values = df_filtered_Spotify.iloc[:, -1].values"
   ]
  },
  {
   "cell_type": "code",
   "execution_count": null,
   "metadata": {},
   "outputs": [],
   "source": [
    "print(y_values)"
   ]
  },
  {
   "cell_type": "code",
   "execution_count": null,
   "metadata": {},
   "outputs": [],
   "source": [
    "# Splitting the data into train and test dataset\n",
    "x_train, x_test, y_train, y_test = train_test_split(x_values, y_values, test_size = 0.2, random_state = 0)\n",
    "print(\"x_train: \",x_train.shape)\n",
    "print(\"x_values: \",x_values.shape)"
   ]
  },
  {
   "cell_type": "code",
   "execution_count": null,
   "metadata": {},
   "outputs": [],
   "source": [
    "# Scale the features - Standardize the dataset as it is required for doing PCA\n",
    "std_scaler = StandardScaler()\n",
    "x_train = std_scaler.fit_transform(x_train)\n",
    "x_test = std_scaler.transform(x_test)"
   ]
  },
  {
   "cell_type": "code",
   "execution_count": null,
   "metadata": {},
   "outputs": [],
   "source": [
    "print(x_train)"
   ]
  },
  {
   "cell_type": "code",
   "execution_count": null,
   "metadata": {},
   "outputs": [],
   "source": [
    "print(x_test)"
   ]
  },
  {
   "cell_type": "code",
   "execution_count": null,
   "metadata": {},
   "outputs": [],
   "source": [
    "# Do PCA(principal component analysis)\n",
    "pca = PCA(n_components = 2)\n",
    "x_train = pca.fit_transform(x_train)\n",
    "x_test = pca.transform(x_test)\n"
   ]
  },
  {
   "cell_type": "code",
   "execution_count": null,
   "metadata": {},
   "outputs": [],
   "source": [
    "print(pca.explained_variance_ratio_)"
   ]
  },
  {
   "cell_type": "code",
   "execution_count": null,
   "metadata": {},
   "outputs": [],
   "source": [
    "print(x_train)"
   ]
  },
  {
   "cell_type": "code",
   "execution_count": null,
   "metadata": {},
   "outputs": [],
   "source": [
    "#TRAINING THE SUPPORT VECTOR MODEL(LINEAR) ON THE TRAINING DATASET\n",
    "#svr = svm.SVR(kernel='linear')\n",
    "#svr.fit(x_train, y_train)"
   ]
  },
  {
   "cell_type": "code",
   "execution_count": null,
   "metadata": {},
   "outputs": [],
   "source": [
    "#TRAINING THE LINEAR REGRESSION MODEL ON THE TRAINING DATASET\n",
    "lm = LinearRegression(n_jobs=-1)\n",
    "lm.fit(x_train, y_train)"
   ]
  },
  {
   "cell_type": "code",
   "execution_count": null,
   "metadata": {},
   "outputs": [],
   "source": [
    "#CREATING THE CONFUSION MATRIX\n",
    "\n",
    "y_pred = lm.predict(x_test)\n",
    "\n",
    "#decide on a cutoff limit\n",
    "cutoff = 0.7 \n",
    "\n",
    "#initialise a matrix full with zeros\n",
    "y_pred_classes = np.zeros_like(y_pred)    \n",
    "\n",
    "#add a 1 if the cutoff was breached\n",
    "y_pred_classes[y_pred > cutoff] = 1 \n",
    "\n",
    "#do the same with test\n",
    "y_test_classes = np.zeros_like(y_pred)\n",
    "y_test_classes[y_test > cutoff] = 1\n",
    "\n",
    "#print a confusion matrix\n",
    "cm = confusion_matrix(y_test_classes, y_pred_classes)\n",
    "print(cm)"
   ]
  },
  {
   "cell_type": "code",
   "execution_count": null,
   "metadata": {},
   "outputs": [],
   "source": [
    "print(classification_report(y_test_classes, y_pred_classes))\n",
    "linearReg_valence_as = accuracy_score(y_test_classes, y_pred_classes)\n",
    "print(linearReg_valence_as)"
   ]
  },
  {
   "cell_type": "markdown",
   "metadata": {},
   "source": [
    "# TRYING TO IMPROVE THE ACCURACY BY GIVING VARIANCE PERCENTAGE"
   ]
  },
  {
   "cell_type": "code",
   "execution_count": null,
   "metadata": {},
   "outputs": [],
   "source": [
    "#### TRYING TO IMPROVE THE ACCURACY BY GIVING VARIANCE PERCENTAGE\n",
    "\n",
    "#95% of variance\n",
    "\n",
    "pca = PCA(n_components = 0.95)\n",
    "#pca.fit(data_rescaled)\n",
    "#reduced = pca.transform(data_rescaled)\n",
    "x_train = pca.fit_transform(x_train)\n",
    "x_test = pca.transform(x_test)"
   ]
  },
  {
   "cell_type": "code",
   "execution_count": null,
   "metadata": {},
   "outputs": [],
   "source": [
    "print(pca.explained_variance_ratio_)"
   ]
  },
  {
   "cell_type": "code",
   "execution_count": null,
   "metadata": {},
   "outputs": [],
   "source": [
    "#TRAINING THE LINEAR REGRESSION MODEL ON THE TRAINING DATASET\n",
    "lm = LinearRegression(n_jobs=-1)\n",
    "lm.fit(x_train, y_train)"
   ]
  },
  {
   "cell_type": "code",
   "execution_count": null,
   "metadata": {},
   "outputs": [],
   "source": [
    "#CREATING THE CONFUSION MATRIX\n",
    "\n",
    "y_pred = lm.predict(x_test)\n",
    "\n",
    "#decide on a cutoff limit\n",
    "cutoff = 0.7 \n",
    "\n",
    "#initialise a matrix full with zeros\n",
    "y_pred_classes = np.zeros_like(y_pred)    \n",
    "\n",
    "#add a 1 if the cutoff was breached\n",
    "y_pred_classes[y_pred > cutoff] = 1 \n",
    "\n",
    "#do the same with test\n",
    "y_test_classes = np.zeros_like(y_pred)\n",
    "y_test_classes[y_test > cutoff] = 1\n",
    "\n",
    "#print a confusion matrix\n",
    "cm = confusion_matrix(y_test_classes, y_pred_classes)\n",
    "print(cm)"
   ]
  },
  {
   "cell_type": "code",
   "execution_count": null,
   "metadata": {},
   "outputs": [],
   "source": [
    "print(classification_report(y_test_classes, y_pred_classes))\n",
    "linearReg_withPercent_as = accuracy_score(y_test_classes, y_pred_classes)\n",
    "print(linearReg_withPercent_as)"
   ]
  },
  {
   "cell_type": "code",
   "execution_count": null,
   "metadata": {},
   "outputs": [],
   "source": []
  },
  {
   "cell_type": "markdown",
   "metadata": {},
   "source": [
    "# TRYING TO IMPROVE ACCURACY SCORE BY USING ANOTHER COLUMN(ENERGY IN THIS CASE)"
   ]
  },
  {
   "cell_type": "code",
   "execution_count": null,
   "metadata": {},
   "outputs": [],
   "source": [
    "x_values = df_filtered_Spotify.iloc[:, :].values\n",
    "y_values = df_filtered_Spotify.iloc[:, 3].values #Energy column gives good variablity so does the loudness column"
   ]
  },
  {
   "cell_type": "code",
   "execution_count": null,
   "metadata": {},
   "outputs": [],
   "source": [
    "# Splitting the data into train and test dataset\n",
    "x_train, x_test, y_train, y_test = train_test_split(x_values, y_values, test_size = 0.2, random_state = 0)\n",
    "print(\"x_train: \",x_train.shape)\n",
    "print(\"x_values: \",x_values.shape)"
   ]
  },
  {
   "cell_type": "code",
   "execution_count": null,
   "metadata": {},
   "outputs": [],
   "source": [
    "std_scaler = StandardScaler()\n",
    "x_train = std_scaler.fit_transform(x_train)\n",
    "x_test = std_scaler.transform(x_test)"
   ]
  },
  {
   "cell_type": "code",
   "execution_count": null,
   "metadata": {},
   "outputs": [],
   "source": [
    "pca = PCA(n_components = 2)\n",
    "x_train = pca.fit_transform(x_train)\n",
    "x_test = pca.transform(x_test)\n"
   ]
  },
  {
   "cell_type": "code",
   "execution_count": null,
   "metadata": {},
   "outputs": [],
   "source": [
    "print(x_test)"
   ]
  },
  {
   "cell_type": "code",
   "execution_count": null,
   "metadata": {},
   "outputs": [],
   "source": [
    "print(pca.explained_variance_ratio_)"
   ]
  },
  {
   "cell_type": "code",
   "execution_count": null,
   "metadata": {},
   "outputs": [],
   "source": [
    "print(pca.components_)"
   ]
  },
  {
   "cell_type": "code",
   "execution_count": null,
   "metadata": {},
   "outputs": [],
   "source": [
    "#COVARIANCE MATRIX\n",
    "pca.get_covariance()"
   ]
  },
  {
   "cell_type": "code",
   "execution_count": null,
   "metadata": {},
   "outputs": [],
   "source": [
    "#TRAINING THE LINEAR REGRESSION MODEL ON THE TRAINING DATASET\n",
    "lm = LinearRegression(n_jobs=-1)\n",
    "lm.fit(x_train, y_train)"
   ]
  },
  {
   "cell_type": "code",
   "execution_count": null,
   "metadata": {},
   "outputs": [],
   "source": [
    "lm.score(x_test, y_test)"
   ]
  },
  {
   "cell_type": "code",
   "execution_count": null,
   "metadata": {},
   "outputs": [],
   "source": [
    "#CREATING THE CONFUSION MATRIX\n",
    "\n",
    "y_pred = lm.predict(x_test)\n",
    "\n",
    "#decide on a cutoff limit\n",
    "cutoff = 0.7 \n",
    "\n",
    "#initialise a matrix full with zeros\n",
    "y_pred_classes = np.zeros_like(y_pred)    \n",
    "\n",
    "#add a 1 if the cutoff was breached\n",
    "y_pred_classes[y_pred > cutoff] = 1 \n",
    "\n",
    "#do the same with test\n",
    "y_test_classes = np.zeros_like(y_pred)\n",
    "y_test_classes[y_test > cutoff] = 1\n",
    "\n",
    "#print a confusion matrix\n",
    "cm = confusion_matrix(y_test_classes, y_pred_classes)\n",
    "print(cm)"
   ]
  },
  {
   "cell_type": "code",
   "execution_count": null,
   "metadata": {},
   "outputs": [],
   "source": [
    "print(classification_report(y_test_classes, y_pred_classes))\n",
    "linearReg_energycol_as = accuracy_score(y_test_classes, y_pred_classes)\n",
    "print(linearReg_energycol_as)"
   ]
  },
  {
   "cell_type": "markdown",
   "metadata": {},
   "source": [
    "# TRYING TO IMPROVE ACCURACY SCORE USING RANDOM FOREST REGRESSOR"
   ]
  },
  {
   "cell_type": "code",
   "execution_count": null,
   "metadata": {},
   "outputs": [],
   "source": [
    "#USING RANDOM FOREST REGRESSOR\n",
    "\n",
    "from sklearn.ensemble import RandomForestRegressor\n",
    "\n",
    "regressor = RandomForestRegressor(n_estimators=20, random_state=0)\n",
    "regressor.fit(x_train, y_train)\n",
    "y_pred = regressor.predict(x_test)\n"
   ]
  },
  {
   "cell_type": "code",
   "execution_count": null,
   "metadata": {},
   "outputs": [],
   "source": [
    "regressor.score(x_test, y_test)"
   ]
  },
  {
   "cell_type": "code",
   "execution_count": null,
   "metadata": {},
   "outputs": [],
   "source": [
    "#decide on a cutoff limit\n",
    "cutoff = 0.7 \n",
    "\n",
    "#initialise a matrix full with zeros\n",
    "y_pred_classes = np.zeros_like(y_pred)    \n",
    "\n",
    "#add a 1 if the cutoff was breached\n",
    "y_pred_classes[y_pred > cutoff] = 1 \n",
    "\n",
    "#do the same with test\n",
    "y_test_classes = np.zeros_like(y_pred)\n",
    "y_test_classes[y_test > cutoff] = 1\n",
    "\n",
    "#print a confusion matrix\n",
    "cm = confusion_matrix(y_test_classes, y_pred_classes)\n",
    "print(cm)"
   ]
  },
  {
   "cell_type": "code",
   "execution_count": null,
   "metadata": {},
   "outputs": [],
   "source": [
    "print(classification_report(y_test_classes, y_pred_classes))\n",
    "random_forest_as = accuracy_score(y_test_classes, y_pred_classes)\n",
    "print(random_forest_as)"
   ]
  },
  {
   "cell_type": "markdown",
   "metadata": {},
   "source": [
    "# TRYING TO IMPROVE ACCURACY SCORE USING DECISION TREE REGRESSOR"
   ]
  },
  {
   "cell_type": "code",
   "execution_count": null,
   "metadata": {},
   "outputs": [],
   "source": [
    "# import the regressor \n",
    "from sklearn.tree import DecisionTreeRegressor"
   ]
  },
  {
   "cell_type": "code",
   "execution_count": null,
   "metadata": {},
   "outputs": [],
   "source": [
    "DT_regressor = DecisionTreeRegressor(random_state = 0)"
   ]
  },
  {
   "cell_type": "code",
   "execution_count": null,
   "metadata": {},
   "outputs": [],
   "source": [
    "# fit the regressor with X and Y data \n",
    "DT_regressor.fit(x_train, y_train) "
   ]
  },
  {
   "cell_type": "code",
   "execution_count": null,
   "metadata": {},
   "outputs": [],
   "source": [
    "y_pred = DT_regressor.predict(x_test)"
   ]
  },
  {
   "cell_type": "code",
   "execution_count": null,
   "metadata": {},
   "outputs": [],
   "source": [
    "DT_regressor.score(x_test, y_test)"
   ]
  },
  {
   "cell_type": "code",
   "execution_count": null,
   "metadata": {},
   "outputs": [],
   "source": [
    "#decide on a cutoff limit\n",
    "cutoff = 0.7 \n",
    "\n",
    "#initialise a matrix full with zeros\n",
    "y_pred_classes = np.zeros_like(y_pred)    \n",
    "\n",
    "#add a 1 if the cutoff was breached\n",
    "y_pred_classes[y_pred > cutoff] = 1 \n",
    "\n",
    "#do the same with test\n",
    "y_test_classes = np.zeros_like(y_pred)\n",
    "y_test_classes[y_test > cutoff] = 1\n",
    "\n",
    "#print a confusion matrix\n",
    "cm = confusion_matrix(y_test_classes, y_pred_classes)\n",
    "print(cm)"
   ]
  },
  {
   "cell_type": "code",
   "execution_count": null,
   "metadata": {},
   "outputs": [],
   "source": [
    "print(classification_report(y_test_classes, y_pred_classes))\n",
    "decisionTree_AS = accuracy_score(y_test_classes, y_pred_classes)\n",
    "print(decisionTree_AS)"
   ]
  },
  {
   "cell_type": "code",
   "execution_count": null,
   "metadata": {},
   "outputs": [],
   "source": [
    "#decisionTree_AS, random_forest_as, linearReg_energycol_as, linearReg_withPercent_as, \n",
    "#linearReg_valence_as\n",
    "#Create table for the accuracy score using different regressor and techniques\n",
    "\n",
    "import plotly.graph_objects as go\n",
    "\n",
    "fig = go.Figure(data=[go.Table(header=dict(values=['Model', 'Accuracy Scores']),\n",
    "                 cells=dict(values=[['LINEAR REGRESSION(VALENCE COLUMN)', 'LINEAR REGRESSION(USING PERCENT VARIANCE)', \n",
    "                                     'LINEAR REGRESSION(ENERGY COLUMN)', 'RANDOM FOREST REGRESSOR','DECISION TREE REGRESSOR'], \n",
    "                                    [linearReg_valence_as, linearReg_withPercent_as, linearReg_energycol_as, random_forest_as, decisionTree_AS]])\n",
    "                              )])\n",
    "fig.show()\n"
   ]
  },
  {
   "cell_type": "code",
   "execution_count": null,
   "metadata": {},
   "outputs": [],
   "source": []
  }
 ],
 "metadata": {
  "kernelspec": {
   "display_name": "Python 3",
   "language": "python",
   "name": "python3"
  },
  "language_info": {
   "codemirror_mode": {
    "name": "ipython",
    "version": 3
   },
   "file_extension": ".py",
   "mimetype": "text/x-python",
   "name": "python",
   "nbconvert_exporter": "python",
   "pygments_lexer": "ipython3",
   "version": "3.8.3"
  }
 },
 "nbformat": 4,
 "nbformat_minor": 4
}
